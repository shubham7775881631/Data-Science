{
 "cells": [
  {
   "cell_type": "code",
   "execution_count": 38,
   "metadata": {},
   "outputs": [
    {
     "data": {
      "text/plain": [
       "range(0, 5)"
      ]
     },
     "execution_count": 38,
     "metadata": {},
     "output_type": "execute_result"
    }
   ],
   "source": [
    "#Range function creates a list of numbers \n",
    "\n",
    "range(5)"
   ]
  },
  {
   "cell_type": "code",
   "execution_count": 40,
   "metadata": {},
   "outputs": [
    {
     "data": {
      "text/plain": [
       "[0, 1, 2, 3, 4]"
      ]
     },
     "execution_count": 40,
     "metadata": {},
     "output_type": "execute_result"
    }
   ],
   "source": [
    "#List creted by range function\n",
    "\n",
    "list(range(5))"
   ]
  },
  {
   "cell_type": "code",
   "execution_count": 42,
   "metadata": {},
   "outputs": [
    {
     "data": {
      "text/plain": [
       "[0, 1, 2]"
      ]
     },
     "execution_count": 42,
     "metadata": {},
     "output_type": "execute_result"
    }
   ],
   "source": [
    "#We can fetch a particular range of numbers in the list cretaed using rane function function\n",
    "\n",
    "list(range(0,3))\n",
    "\n",
    "#Indexation starts from zero in python\n",
    "#While fetching a range python will always include first number and exclude the last number given in the range"
   ]
  },
  {
   "cell_type": "code",
   "execution_count": 57,
   "metadata": {},
   "outputs": [
    {
     "data": {
      "text/plain": [
       "[0, 2, 4]"
      ]
     },
     "execution_count": 57,
     "metadata": {},
     "output_type": "execute_result"
    }
   ],
   "source": [
    "#We can aslo decide at what interval we want to fetch the range\n",
    "\n",
    "list(range(0,5,2))\n",
    "\n",
    "#List fetched at interval of 2 digit from the list"
   ]
  },
  {
   "cell_type": "code",
   "execution_count": null,
   "metadata": {},
   "outputs": [],
   "source": [
    "#Syntax for For Loop.\n",
    "\n",
    "#for condition:\n",
    "#     Statement1\n",
    "#     Statement2\n",
    "#Statement1\n",
    "\n",
    "\n",
    "#The condition that are to be run within the loop should be written in Tab Incantation after semi-colon.\n",
    "#The conditions written without Tab Incantation are outside the Loop, they will run once the loop is over."
   ]
  },
  {
   "cell_type": "code",
   "execution_count": 45,
   "metadata": {},
   "outputs": [
    {
     "name": "stdout",
     "output_type": "stream",
     "text": [
      "Hello Python\n",
      "Hello Python\n",
      "Hello Python\n",
      "Loop Ends\n"
     ]
    }
   ],
   "source": [
    "for i in range(0,5,2):\n",
    "    print(\"Hello Python\")\n",
    "print(\"Loop Ends\")\n",
    "\n",
    "#Now the range function will fetch the values according the given condition i.e. with the  interval of 2 digit\n",
    "#so it will pick the i values of 0,2,4 and then loop printed the condition for 3 times.\n",
    "#Once the loop was ended it printed the condition which was outside the loop i.e. \"Loop Ends\""
   ]
  },
  {
   "cell_type": "code",
   "execution_count": 46,
   "metadata": {},
   "outputs": [],
   "source": [
    "#A New list is created \n",
    "\n",
    "List1 = [1,2,3,4,5,6,7,8,9]"
   ]
  },
  {
   "cell_type": "code",
   "execution_count": 47,
   "metadata": {},
   "outputs": [
    {
     "name": "stdout",
     "output_type": "stream",
     "text": [
      "Hi How are You?\n",
      "Hi How are You?\n",
      "Hi How are You?\n",
      "Hi How are You?\n",
      "Hi How are You?\n",
      "Hi How are You?\n",
      "Hi How are You?\n",
      "Hi How are You?\n",
      "Hi How are You?\n",
      "Loop Ends\n"
     ]
    }
   ],
   "source": [
    "for i in List1:\n",
    "    print(\"Hi How are You?\")\n",
    "print(\"Loop Ends\")\n",
    "\n",
    "#This Loop worked in the same manner as above it printed the conditions for n number of times as per the values in list"
   ]
  },
  {
   "cell_type": "code",
   "execution_count": 48,
   "metadata": {},
   "outputs": [
    {
     "name": "stdout",
     "output_type": "stream",
     "text": [
      "1 Hi How are You?\n",
      "2 Hi How are You?\n",
      "3 Hi How are You?\n",
      "4 Hi How are You?\n",
      "5 Hi How are You?\n",
      "6 Hi How are You?\n",
      "7 Hi How are You?\n",
      "8 Hi How are You?\n",
      "9 Hi How are You?\n",
      "Loop Ends\n"
     ]
    }
   ],
   "source": [
    "for i in List1:\n",
    "    print(i , \"Hi How are You?\")\n",
    "print(\"Loop Ends\")\n",
    "\n",
    "#We Printed the value of i for better understanding of working of loop\n",
    "#It printed the condition 9 times as per our list also, there were only 9 elements"
   ]
  },
  {
   "cell_type": "code",
   "execution_count": 50,
   "metadata": {},
   "outputs": [],
   "source": [
    "#Two new lists are created\n",
    "\n",
    "Student_List = ['Jack','James','Kate','Ben','Hugo']\n",
    "Student_Id = ['MC-2543','BC-4574','MS-9128','BS-5394']"
   ]
  },
  {
   "cell_type": "code",
   "execution_count": 51,
   "metadata": {},
   "outputs": [
    {
     "data": {
      "text/plain": [
       "['Jack', 'James', 'Kate', 'Ben', 'Hugo']"
      ]
     },
     "execution_count": 51,
     "metadata": {},
     "output_type": "execute_result"
    }
   ],
   "source": [
    "Student_List"
   ]
  },
  {
   "cell_type": "code",
   "execution_count": 52,
   "metadata": {},
   "outputs": [
    {
     "data": {
      "text/plain": [
       "['MC-2543', 'BC-4574', 'MS-9128', 'BS-5394']"
      ]
     },
     "execution_count": 52,
     "metadata": {},
     "output_type": "execute_result"
    }
   ],
   "source": [
    "Student_Id"
   ]
  },
  {
   "cell_type": "code",
   "execution_count": 56,
   "metadata": {},
   "outputs": [
    {
     "name": "stdout",
     "output_type": "stream",
     "text": [
      "Hello Jack , Your Student ID is: MC-2543\n",
      "Hello James , Your Student ID is: BC-4574\n",
      "Hello Kate , Your Student ID is: MS-9128\n",
      "Hello Ben , Your Student ID is: BS-5394\n"
     ]
    }
   ],
   "source": [
    "import itertools\n",
    "Student_List = ['Jack','James','Kate','Ben','Hugo']\n",
    "Student_Id = ['MC-2543','BC-4574','MS-9128','BS-5394']\n",
    "for (sl,si) in zip(Student_List,Student_Id):\n",
    "    print('Hello',sl,',','Your Student ID is:',si)\n",
    "    \n",
    "#itertools is a package of python and we used this package to combine the two list for For Loop using Zip Function\n",
    "#We Created alias for our list in for loop so that it becomes easy to type in the list rather than using full name"
   ]
  }
 ],
 "metadata": {
  "kernelspec": {
   "display_name": "Python 3",
   "language": "python",
   "name": "python3"
  },
  "language_info": {
   "codemirror_mode": {
    "name": "ipython",
    "version": 3
   },
   "file_extension": ".py",
   "mimetype": "text/x-python",
   "name": "python",
   "nbconvert_exporter": "python",
   "pygments_lexer": "ipython3",
   "version": "3.7.3"
  }
 },
 "nbformat": 4,
 "nbformat_minor": 2
}
