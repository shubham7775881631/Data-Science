{
 "cells": [
  {
   "cell_type": "code",
   "execution_count": 1,
   "metadata": {},
   "outputs": [],
   "source": [
    "#Import Library Numpy which helps us in mathematical operations\n",
    "\n",
    "import numpy as np\n",
    "from numpy.random import randn\n",
    "\n",
    "#From Numpy Library we are callling a function known as Randn which generates random number ranging from -2 to 2"
   ]
  },
  {
   "cell_type": "code",
   "execution_count": 2,
   "metadata": {},
   "outputs": [
    {
     "data": {
      "text/plain": [
       "-1.077390034703296"
      ]
     },
     "execution_count": 2,
     "metadata": {},
     "output_type": "execute_result"
    }
   ],
   "source": [
    "randn()\n",
    "\n",
    "#Random number is generated"
   ]
  },
  {
   "cell_type": "code",
   "execution_count": 4,
   "metadata": {},
   "outputs": [
    {
     "name": "stdout",
     "output_type": "stream",
     "text": [
      "2.925289928613176\n",
      "Greater than 1\n"
     ]
    }
   ],
   "source": [
    "#Using IF Statement\n",
    "#IF statement also works with Tab Incantation, after writing the condition the desired result should be written in next\n",
    "#line with Tab Incantation\n",
    "\n",
    "x = randn()\n",
    "if x > 1:\n",
    "    Answer = 'Greater than 1'\n",
    "print(x)\n",
    "print(Answer)\n",
    "\n",
    "#Here a random number is generated using randn function and the number is stored in variable(x)\n",
    "#Now according to the condition we are making a new variable(Answer) which will show the result based on mathematical operation\n",
    "#Lastly we printed the value stored in the variables based on the operation"
   ]
  },
  {
   "cell_type": "code",
   "execution_count": 5,
   "metadata": {},
   "outputs": [
    {
     "name": "stdout",
     "output_type": "stream",
     "text": [
      "-0.8004291021752699\n",
      "Less than 1\n"
     ]
    }
   ],
   "source": [
    "#Again we are generating a new random number and storing it variable(x).\n",
    "#Now along with IF Statement we are using Else statement, if the condition is not satisfied by IF statement then ELSE statement will run and will give the desired output\n",
    "#Care should be taken in syntax ELSE statement should align with IF statement otherwise it will not run and condition following the ELSE statement should be as same as IF statement with\n",
    "#Tab Incantion.\n",
    "\n",
    "x = randn()\n",
    "if x > 1:\n",
    "    Answer = 'Greater than 1'\n",
    "else:\n",
    "    Answer = \"Less than 1\"\n",
    "print(x)\n",
    "print(Answer)\n",
    "\n"
   ]
  },
  {
   "cell_type": "code",
   "execution_count": 7,
   "metadata": {},
   "outputs": [
    {
     "name": "stdout",
     "output_type": "stream",
     "text": [
      "0.019840100465020646\n",
      "Between 1 and -1\n"
     ]
    }
   ],
   "source": [
    "#Using multiple IF and Else Statements\n",
    "#All the Else statements should align with their respective IF statements, not with the initial IF statement\n",
    "\n",
    "x = randn()\n",
    "if x > 1:\n",
    "    Answer = 'Greater than 1'\n",
    "else:\n",
    "    if x >=-1 and x < 1:\n",
    "        Answer = \"Between 1 and -1\"\n",
    "    else:\n",
    "        Answer = 'Less than -1'\n",
    "print(x)\n",
    "print(Answer)"
   ]
  },
  {
   "cell_type": "code",
   "execution_count": 8,
   "metadata": {},
   "outputs": [
    {
     "name": "stdout",
     "output_type": "stream",
     "text": [
      "0.21200021635516395\n",
      "Between 1 and -1\n"
     ]
    }
   ],
   "source": [
    "#Using Multiple IF and ELSE statements can be confusing and are difficult to read and to find errors\n",
    "#We can use ELIF statement which is more easier to read and debug\n",
    "#All the statements following the ELIF statements should also be Tab Incanted\n",
    "\n",
    "x = randn()\n",
    "\n",
    "if x > 1:\n",
    "    Answer = 'Greater than 1'\n",
    "elif x >= -1 and x < 1:\n",
    "    Answer = \"Between 1 and -1\"\n",
    "else:\n",
    "    Answer = 'Less than 1'\n",
    "print(x)\n",
    "print(Answer)"
   ]
  },
  {
   "cell_type": "code",
   "execution_count": 10,
   "metadata": {},
   "outputs": [
    {
     "name": "stdout",
     "output_type": "stream",
     "text": [
      "100\n",
      "Avail the Discount of 50%\n"
     ]
    }
   ],
   "source": [
    "#We are making a variable(Discount) with empty value and a variable(Quantity) with a value of 100\n",
    "\n",
    "Discount = None\n",
    "Quantity = 100\n",
    "\n",
    "if Quantity > 50:\n",
    "    Discount = 'Avail the Discount of 50%'\n",
    "elif Quantity > 20 and Quantity < 49:\n",
    "    Discount = 'Avail the Discount of 25%'\n",
    "else:\n",
    "    Discount = 'Ávail the Discount of 10%'\n",
    "print(Quantity)\n",
    "print(Discount)\n",
    "\n",
    "#Now to according the condition we had a quantity of 100 and since IF statement was fulfilling the condition we got the result\n",
    "#according to the condition followed by it"
   ]
  }
 ],
 "metadata": {
  "kernelspec": {
   "display_name": "Python 3",
   "language": "python",
   "name": "python3"
  },
  "language_info": {
   "codemirror_mode": {
    "name": "ipython",
    "version": 3
   },
   "file_extension": ".py",
   "mimetype": "text/x-python",
   "name": "python",
   "nbconvert_exporter": "python",
   "pygments_lexer": "ipython3",
   "version": "3.7.0"
  }
 },
 "nbformat": 4,
 "nbformat_minor": 2
}
