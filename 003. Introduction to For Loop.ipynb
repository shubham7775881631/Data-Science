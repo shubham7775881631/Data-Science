{
 "cells": [
  {
   "cell_type": "code",
   "execution_count": null,
   "metadata": {},
   "outputs": [],
   "source": [
    "#Syntax for While Loops in Python\n",
    "\n",
    "while condition :\n",
    "    code 1\n",
    "    code 2\n",
    "    code 3\n",
    "code 4\n",
    "\n",
    "#Syntax for While Loops in other languages\n",
    "\n",
    "while condition {\n",
    "    code 1\n",
    "    code 2\n",
    "}\n",
    "code 3"
   ]
  },
  {
   "cell_type": "code",
   "execution_count": 65,
   "metadata": {},
   "outputs": [
    {
     "name": "stdout",
     "output_type": "stream",
     "text": [
      "Hello World\n"
     ]
    }
   ],
   "source": [
    "while False:\n",
    "    print(\"Hello Python\")\n",
    "print(\"Hello World\")\n",
    "\n",
    "#Since the condition written in the "
   ]
  },
  {
   "cell_type": "code",
   "execution_count": null,
   "metadata": {},
   "outputs": [],
   "source": [
    "while True:\n",
    "    print(\"Hello Python\")\n",
    "    \n",
    "#Since the condition is always true as we hard coded it to be, the LooP will run infite times"
   ]
  },
  {
   "cell_type": "code",
   "execution_count": 64,
   "metadata": {},
   "outputs": [
    {
     "name": "stdout",
     "output_type": "stream",
     "text": [
      "0 Hello World\n",
      "1 Hello World\n",
      "2 Hello World\n",
      "3 Hello World\n",
      "4 Hello World\n",
      "5 Hello World\n",
      "6 Hello World\n",
      "7 Hello World\n",
      "8 Hello World\n",
      "9 Hello World\n",
      "Loop Ends\n"
     ]
    }
   ],
   "source": [
    "x=0\n",
    "while x < 10:\n",
    "    print(x,\"Hello World\")\n",
    "    x = x+1\n",
    "print('Loop Ends')\n",
    "\n",
    "#In this loop the value of x is 0 in the beginning when the loop begins it prints the value of x and the condition\n",
    "#till the times the loop is satisfied as in every iteration the loop will increase the value of x by 1 and the\n",
    "#loop will run till its less than 10"
   ]
  }
 ],
 "metadata": {
  "kernelspec": {
   "display_name": "Python 3",
   "language": "python",
   "name": "python3"
  },
  "language_info": {
   "codemirror_mode": {
    "name": "ipython",
    "version": 3
   },
   "file_extension": ".py",
   "mimetype": "text/x-python",
   "name": "python",
   "nbconvert_exporter": "python",
   "pygments_lexer": "ipython3",
   "version": "3.7.0"
  }
 },
 "nbformat": 4,
 "nbformat_minor": 2
}
